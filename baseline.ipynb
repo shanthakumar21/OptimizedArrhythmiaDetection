{
 "cells": [
  {
   "cell_type": "markdown",
   "metadata": {},
   "source": [
    "## <ins>Decision Tree:</ins>"
   ]
  },
  {
   "cell_type": "code",
   "execution_count": 4,
   "metadata": {},
   "outputs": [],
   "source": [
    "import pandas as pd\n",
    "import numpy as np\n",
    "import os\n",
    "from sklearn.tree import DecisionTreeClassifier\n",
    "from sklearn.ensemble import RandomForestClassifier, ExtraTreesClassifier\n",
    "from sklearn.svm import SVC\n",
    "from sklearn.model_selection import train_test_split\n",
    "from sklearn.metrics import classification_report"
   ]
  },
  {
   "cell_type": "code",
   "execution_count": 2,
   "metadata": {},
   "outputs": [
    {
     "name": "stdout",
     "output_type": "stream",
     "text": [
      "CPU times: user 806 ms, sys: 101 ms, total: 908 ms\n",
      "Wall time: 1.38 s\n"
     ]
    }
   ],
   "source": [
    "%%time\n",
    "afd = pd.read_csv('/hdd/physio/af/hugedf5secfeatures.csv')\n",
    "chd = pd.read_csv('/hdd/physio/af2/finaldfs/2017features.csv')"
   ]
  },
  {
   "cell_type": "code",
   "execution_count": 13,
   "metadata": {},
   "outputs": [],
   "source": [
    "afd = chd"
   ]
  },
  {
   "cell_type": "code",
   "execution_count": 14,
   "metadata": {},
   "outputs": [],
   "source": [
    "# x = afd[afd.columns[1:]].sample(15000)\n",
    "# y = afd[afd.columns[0]]\n",
    "\n",
    "# x_train, x_test, y_train, y_test = train_test_split(x, y, test_size = 0.2, random_state = 0)\n",
    "\n",
    "_0 = afd[afd.af == 0].sample(n = 15000).reset_index(drop = True)\n",
    "_1 = afd[afd.af == 1].sample(n = 15000).reset_index(drop = True)\n",
    "train = pd.concat([_0, _1], axis = 0).sample(frac = 1).reset_index(drop = True)\n",
    "x_train = train[train.columns[1:]]\n",
    "y_train = train[train.columns[0]]\n",
    "train = train.to_numpy()\n",
    "_0 = afd[afd.af == 0].sample(n = 1000).reset_index(drop = True)\n",
    "_1 = afd[afd.af == 1].sample(n = 1000).reset_index(drop = True)\n",
    "test = pd.concat([_0, _1], axis = 0).sample(frac = 1).reset_index(drop = True)\n",
    "x_test = test[test.columns[1:]]\n",
    "y_test = test[test.columns[0]]\n",
    "test = test.to_numpy()"
   ]
  },
  {
   "cell_type": "code",
   "execution_count": 15,
   "metadata": {},
   "outputs": [
    {
     "data": {
      "text/plain": [
       "ExtraTreesClassifier(random_state=0)"
      ]
     },
     "execution_count": 15,
     "metadata": {},
     "output_type": "execute_result"
    }
   ],
   "source": [
    "# Support Vector Classifier\n",
    "\n",
    "svc = SVC(random_state = 0)\n",
    "svc.fit(x_train, y_train)\n",
    "\n",
    "# Decision Tree Classifier\n",
    "\n",
    "dt = DecisionTreeClassifier(random_state = 0)\n",
    "dt.fit(x_train, y_train)\n",
    "\n",
    "# Random Forest Classifier\n",
    "\n",
    "rf = RandomForestClassifier(random_state = 0)\n",
    "rf.fit(x_train, y_train)\n",
    "\n",
    "# Extra Trees Classifier\n",
    "\n",
    "et = ExtraTreesClassifier(random_state = 0)\n",
    "et.fit(x_train, y_train)"
   ]
  },
  {
   "cell_type": "code",
   "execution_count": 11,
   "metadata": {},
   "outputs": [
    {
     "name": "stdout",
     "output_type": "stream",
     "text": [
      "SVC\n",
      "              precision    recall  f1-score   support\n",
      "\n",
      "           0       0.95      0.83      0.88      1000\n",
      "           1       0.85      0.95      0.90      1000\n",
      "\n",
      "    accuracy                           0.89      2000\n",
      "   macro avg       0.90      0.89      0.89      2000\n",
      "weighted avg       0.90      0.89      0.89      2000\n",
      "\n",
      "DT\n",
      "              precision    recall  f1-score   support\n",
      "\n",
      "           0       0.89      0.87      0.88      1000\n",
      "           1       0.87      0.89      0.88      1000\n",
      "\n",
      "    accuracy                           0.88      2000\n",
      "   macro avg       0.88      0.88      0.88      2000\n",
      "weighted avg       0.88      0.88      0.88      2000\n",
      "\n",
      "RF\n",
      "              precision    recall  f1-score   support\n",
      "\n",
      "           0       0.95      0.88      0.91      1000\n",
      "           1       0.89      0.95      0.92      1000\n",
      "\n",
      "    accuracy                           0.92      2000\n",
      "   macro avg       0.92      0.92      0.92      2000\n",
      "weighted avg       0.92      0.92      0.92      2000\n",
      "\n",
      "ET\n",
      "              precision    recall  f1-score   support\n",
      "\n",
      "           0       0.95      0.88      0.91      1000\n",
      "           1       0.89      0.95      0.92      1000\n",
      "\n",
      "    accuracy                           0.92      2000\n",
      "   macro avg       0.92      0.92      0.92      2000\n",
      "weighted avg       0.92      0.92      0.92      2000\n",
      "\n"
     ]
    }
   ],
   "source": [
    "# AFDB\n",
    "\n",
    "for i, j in zip([svc, dt, rf, et], [\"SVC\", \"DT\", \"RF\", \"ET\"]):\n",
    "    print(j + '\\n' + classification_report(y_test, i.predict(x_test)))"
   ]
  },
  {
   "cell_type": "code",
   "execution_count": 16,
   "metadata": {},
   "outputs": [
    {
     "name": "stdout",
     "output_type": "stream",
     "text": [
      "SVC\n",
      "              precision    recall  f1-score   support\n",
      "\n",
      "           0       0.89      0.93      0.91      1000\n",
      "           1       0.93      0.89      0.91      1000\n",
      "\n",
      "    accuracy                           0.91      2000\n",
      "   macro avg       0.91      0.91      0.91      2000\n",
      "weighted avg       0.91      0.91      0.91      2000\n",
      "\n",
      "DT\n",
      "              precision    recall  f1-score   support\n",
      "\n",
      "           0       0.96      0.89      0.92      1000\n",
      "           1       0.90      0.96      0.93      1000\n",
      "\n",
      "    accuracy                           0.93      2000\n",
      "   macro avg       0.93      0.93      0.93      2000\n",
      "weighted avg       0.93      0.93      0.93      2000\n",
      "\n",
      "RF\n",
      "              precision    recall  f1-score   support\n",
      "\n",
      "           0       0.97      0.93      0.95      1000\n",
      "           1       0.93      0.97      0.95      1000\n",
      "\n",
      "    accuracy                           0.95      2000\n",
      "   macro avg       0.95      0.95      0.95      2000\n",
      "weighted avg       0.95      0.95      0.95      2000\n",
      "\n",
      "ET\n",
      "              precision    recall  f1-score   support\n",
      "\n",
      "           0       0.97      0.93      0.95      1000\n",
      "           1       0.93      0.97      0.95      1000\n",
      "\n",
      "    accuracy                           0.95      2000\n",
      "   macro avg       0.95      0.95      0.95      2000\n",
      "weighted avg       0.95      0.95      0.95      2000\n",
      "\n"
     ]
    }
   ],
   "source": [
    "# CHDB\n",
    "\n",
    "for i, j in zip([svc, dt, rf, et], [\"SVC\", \"DT\", \"RF\", \"ET\"]):\n",
    "    print(j + '\\n' + classification_report(y_test, i.predict(x_test)))"
   ]
  },
  {
   "cell_type": "code",
   "execution_count": 17,
   "metadata": {},
   "outputs": [],
   "source": [
    "import joblib\n",
    "\n",
    "for i, j in zip([svc, dt, rf, et], [\"SV\", \"DT\", \"RF\", \"ET\"]):\n",
    "    joblib.dump(i, \"chdb_\" + j + \".joblib\")"
   ]
  },
  {
   "cell_type": "code",
   "execution_count": 20,
   "metadata": {},
   "outputs": [
    {
     "name": "stdout",
     "output_type": "stream",
     "text": [
      "SV:\n",
      "0.55MB\n",
      "DT:\n",
      "0.37MB\n",
      "RF:\n",
      "29.98MB\n",
      "ET:\n",
      "89.66MB\n"
     ]
    }
   ],
   "source": [
    "for i, j in zip([svc, dt, rf, et], [\"SV\", \"DT\", \"RF\", \"ET\"]):\n",
    "    print(j + ':\\n' + str(np.round(os.path.getsize('chdb_' + j + '.joblib') / 1024 / 1024, 2))+\"MB\")"
   ]
  },
  {
   "cell_type": "code",
   "execution_count": 50,
   "metadata": {},
   "outputs": [
    {
     "name": "stdout",
     "output_type": "stream",
     "text": [
      "Random Forest size: 0.58 MB\n"
     ]
    }
   ],
   "source": [
    "joblib.dump(svc, \"RandomForest_100_trees.joblib\") \n",
    "print(f\"Random Forest size: {np.round(os.path.getsize('RandomForest_100_trees.joblib') / 1024 / 1024, 2) } MB\")"
   ]
  },
  {
   "cell_type": "code",
   "execution_count": 53,
   "metadata": {},
   "outputs": [
    {
     "data": {
      "text/plain": [
       "DecisionTreeClassifier()"
      ]
     },
     "execution_count": 53,
     "metadata": {},
     "output_type": "execute_result"
    }
   ],
   "source": [
    "dt = DecisionTreeClassifier()\n",
    "dt.fit(x_train, y_train)"
   ]
  },
  {
   "cell_type": "code",
   "execution_count": 54,
   "metadata": {},
   "outputs": [
    {
     "name": "stdout",
     "output_type": "stream",
     "text": [
      "Random Forest size: 0.35 MB\n"
     ]
    }
   ],
   "source": [
    "joblib.dump(dt, \"RandomForest_100_trees.joblib\") \n",
    "print(f\"Random Forest size: {np.round(os.path.getsize('RandomForest_100_trees.joblib') / 1024 / 1024, 2) } MB\")"
   ]
  },
  {
   "cell_type": "code",
   "execution_count": 3,
   "metadata": {},
   "outputs": [],
   "source": [
    "d = pd.read_csv('/hdd/physio/af/finalscore.csv')"
   ]
  },
  {
   "cell_type": "code",
   "execution_count": 4,
   "metadata": {},
   "outputs": [
    {
     "data": {
      "text/html": [
       "<div>\n",
       "<style scoped>\n",
       "    .dataframe tbody tr th:only-of-type {\n",
       "        vertical-align: middle;\n",
       "    }\n",
       "\n",
       "    .dataframe tbody tr th {\n",
       "        vertical-align: top;\n",
       "    }\n",
       "\n",
       "    .dataframe thead th {\n",
       "        text-align: right;\n",
       "    }\n",
       "</style>\n",
       "<table border=\"1\" class=\"dataframe\">\n",
       "  <thead>\n",
       "    <tr style=\"text-align: right;\">\n",
       "      <th></th>\n",
       "      <th>af</th>\n",
       "      <th>RMSSD</th>\n",
       "      <th>STDNN</th>\n",
       "      <th>MEAN_RR</th>\n",
       "      <th>MEAN_HR</th>\n",
       "      <th>STD_HR</th>\n",
       "      <th>MIN_HR</th>\n",
       "      <th>MAX_HR</th>\n",
       "    </tr>\n",
       "  </thead>\n",
       "  <tbody>\n",
       "    <tr>\n",
       "      <th>0</th>\n",
       "      <td>1</td>\n",
       "      <td>0.799498</td>\n",
       "      <td>0.074705</td>\n",
       "      <td>0.796000</td>\n",
       "      <td>76.041099</td>\n",
       "      <td>7.091900</td>\n",
       "      <td>66.371681</td>\n",
       "      <td>84.745763</td>\n",
       "    </tr>\n",
       "    <tr>\n",
       "      <th>1</th>\n",
       "      <td>1</td>\n",
       "      <td>0.399271</td>\n",
       "      <td>0.035757</td>\n",
       "      <td>0.397667</td>\n",
       "      <td>152.061961</td>\n",
       "      <td>13.203645</td>\n",
       "      <td>127.118644</td>\n",
       "      <td>172.413793</td>\n",
       "    </tr>\n",
       "    <tr>\n",
       "      <th>2</th>\n",
       "      <td>0</td>\n",
       "      <td>0.610334</td>\n",
       "      <td>0.007667</td>\n",
       "      <td>0.610286</td>\n",
       "      <td>98.330151</td>\n",
       "      <td>1.237577</td>\n",
       "      <td>96.153846</td>\n",
       "      <td>100.671141</td>\n",
       "    </tr>\n",
       "    <tr>\n",
       "      <th>3</th>\n",
       "      <td>0</td>\n",
       "      <td>0.884018</td>\n",
       "      <td>0.005657</td>\n",
       "      <td>0.884000</td>\n",
       "      <td>67.876083</td>\n",
       "      <td>0.434376</td>\n",
       "      <td>67.264574</td>\n",
       "      <td>68.493151</td>\n",
       "    </tr>\n",
       "    <tr>\n",
       "      <th>4</th>\n",
       "      <td>0</td>\n",
       "      <td>0.597896</td>\n",
       "      <td>0.128156</td>\n",
       "      <td>0.584000</td>\n",
       "      <td>109.100500</td>\n",
       "      <td>29.368470</td>\n",
       "      <td>81.967213</td>\n",
       "      <td>159.574468</td>\n",
       "    </tr>\n",
       "    <tr>\n",
       "      <th>...</th>\n",
       "      <td>...</td>\n",
       "      <td>...</td>\n",
       "      <td>...</td>\n",
       "      <td>...</td>\n",
       "      <td>...</td>\n",
       "      <td>...</td>\n",
       "      <td>...</td>\n",
       "      <td>...</td>\n",
       "    </tr>\n",
       "    <tr>\n",
       "      <th>35995</th>\n",
       "      <td>0</td>\n",
       "      <td>1.002106</td>\n",
       "      <td>0.014560</td>\n",
       "      <td>1.002000</td>\n",
       "      <td>59.892887</td>\n",
       "      <td>0.870390</td>\n",
       "      <td>58.823529</td>\n",
       "      <td>60.975610</td>\n",
       "    </tr>\n",
       "    <tr>\n",
       "      <th>35996</th>\n",
       "      <td>0</td>\n",
       "      <td>0.574999</td>\n",
       "      <td>0.012778</td>\n",
       "      <td>0.574857</td>\n",
       "      <td>104.425519</td>\n",
       "      <td>2.329051</td>\n",
       "      <td>101.351351</td>\n",
       "      <td>107.913669</td>\n",
       "    </tr>\n",
       "    <tr>\n",
       "      <th>35997</th>\n",
       "      <td>0</td>\n",
       "      <td>0.956046</td>\n",
       "      <td>0.009381</td>\n",
       "      <td>0.956000</td>\n",
       "      <td>62.767489</td>\n",
       "      <td>0.609665</td>\n",
       "      <td>61.728395</td>\n",
       "      <td>63.291139</td>\n",
       "    </tr>\n",
       "    <tr>\n",
       "      <th>35998</th>\n",
       "      <td>0</td>\n",
       "      <td>1.087822</td>\n",
       "      <td>0.042273</td>\n",
       "      <td>1.087000</td>\n",
       "      <td>55.278977</td>\n",
       "      <td>2.088315</td>\n",
       "      <td>51.903114</td>\n",
       "      <td>57.471264</td>\n",
       "    </tr>\n",
       "    <tr>\n",
       "      <th>35999</th>\n",
       "      <td>1</td>\n",
       "      <td>0.654437</td>\n",
       "      <td>0.136704</td>\n",
       "      <td>0.640000</td>\n",
       "      <td>97.858593</td>\n",
       "      <td>19.429063</td>\n",
       "      <td>69.124424</td>\n",
       "      <td>125.000000</td>\n",
       "    </tr>\n",
       "  </tbody>\n",
       "</table>\n",
       "<p>36000 rows × 8 columns</p>\n",
       "</div>"
      ],
      "text/plain": [
       "       af     RMSSD     STDNN   MEAN_RR     MEAN_HR     STD_HR      MIN_HR  \\\n",
       "0       1  0.799498  0.074705  0.796000   76.041099   7.091900   66.371681   \n",
       "1       1  0.399271  0.035757  0.397667  152.061961  13.203645  127.118644   \n",
       "2       0  0.610334  0.007667  0.610286   98.330151   1.237577   96.153846   \n",
       "3       0  0.884018  0.005657  0.884000   67.876083   0.434376   67.264574   \n",
       "4       0  0.597896  0.128156  0.584000  109.100500  29.368470   81.967213   \n",
       "...    ..       ...       ...       ...         ...        ...         ...   \n",
       "35995   0  1.002106  0.014560  1.002000   59.892887   0.870390   58.823529   \n",
       "35996   0  0.574999  0.012778  0.574857  104.425519   2.329051  101.351351   \n",
       "35997   0  0.956046  0.009381  0.956000   62.767489   0.609665   61.728395   \n",
       "35998   0  1.087822  0.042273  1.087000   55.278977   2.088315   51.903114   \n",
       "35999   1  0.654437  0.136704  0.640000   97.858593  19.429063   69.124424   \n",
       "\n",
       "           MAX_HR  \n",
       "0       84.745763  \n",
       "1      172.413793  \n",
       "2      100.671141  \n",
       "3       68.493151  \n",
       "4      159.574468  \n",
       "...           ...  \n",
       "35995   60.975610  \n",
       "35996  107.913669  \n",
       "35997   63.291139  \n",
       "35998   57.471264  \n",
       "35999  125.000000  \n",
       "\n",
       "[36000 rows x 8 columns]"
      ]
     },
     "execution_count": 4,
     "metadata": {},
     "output_type": "execute_result"
    }
   ],
   "source": [
    "d"
   ]
  },
  {
   "cell_type": "code",
   "execution_count": 9,
   "metadata": {},
   "outputs": [],
   "source": [
    "x_train, x_test, y_train, y_test = train_test_split(d[d.columns[1:]], d[d.columns[0]], test_size = 0.2, random_state = 0)"
   ]
  },
  {
   "cell_type": "code",
   "execution_count": 10,
   "metadata": {},
   "outputs": [
    {
     "data": {
      "text/plain": [
       "DecisionTreeClassifier()"
      ]
     },
     "execution_count": 10,
     "metadata": {},
     "output_type": "execute_result"
    }
   ],
   "source": [
    "dt = DecisionTreeClassifier()\n",
    "dt.fit(x_train, y_train)"
   ]
  },
  {
   "cell_type": "code",
   "execution_count": 11,
   "metadata": {},
   "outputs": [
    {
     "name": "stdout",
     "output_type": "stream",
     "text": [
      "              precision    recall  f1-score   support\n",
      "\n",
      "           0       0.88      0.89      0.89      3573\n",
      "           1       0.89      0.88      0.89      3627\n",
      "\n",
      "    accuracy                           0.89      7200\n",
      "   macro avg       0.89      0.89      0.89      7200\n",
      "weighted avg       0.89      0.89      0.89      7200\n",
      "\n"
     ]
    }
   ],
   "source": [
    "pred = dt.predict(x_test)\n",
    "print(classification_report(y_test, pred))"
   ]
  },
  {
   "cell_type": "code",
   "execution_count": null,
   "metadata": {},
   "outputs": [],
   "source": []
  }
 ],
 "metadata": {
  "kernelspec": {
   "display_name": "Python [conda env:physio]",
   "language": "python",
   "name": "conda-env-physio-py"
  },
  "language_info": {
   "codemirror_mode": {
    "name": "ipython",
    "version": 3
   },
   "file_extension": ".py",
   "mimetype": "text/x-python",
   "name": "python",
   "nbconvert_exporter": "python",
   "pygments_lexer": "ipython3",
   "version": "3.7.5"
  }
 },
 "nbformat": 4,
 "nbformat_minor": 4
}
